{
  "nbformat": 4,
  "nbformat_minor": 0,
  "metadata": {
    "colab": {
      "provenance": []
    },
    "kernelspec": {
      "name": "python3",
      "display_name": "Python 3"
    },
    "language_info": {
      "name": "python"
    }
  },
  "cells": [
    {
      "cell_type": "markdown",
      "source": [
        "# 모의문제\n",
        "- data : members.csv"
      ],
      "metadata": {
        "id": "jvuNsPAY41yZ"
      }
    },
    {
      "cell_type": "markdown",
      "source": [
        "## 문제1\n",
        "- f1컬럼의 결측치는 중앙 값으로 대체하고\n",
        "- 나머지 결측치가 있는 데이터(행)을 모두 제거하고,\n",
        "- 앞에서부터 70% 데이터 중 views 컬럼의 3사분위 수에서 1사분위 수를 뺀 값을 구하시오\n",
        "- (단, 데이터 70% 지점은 정수형(int) 변환)"
      ],
      "metadata": {
        "id": "PVBhS3mWQOJp"
      }
    },
    {
      "cell_type": "code",
      "source": [
        "# your code\n",
        "import pandas as pd\n",
        "df = pd.read_csv(\"https://raw.githubusercontent.com/lovedlim/inf/main/p1/members.csv\")\n",
        "\n",
        "f1_median = df['f1'].median()\n",
        "df['f1'] = df['f1'].fillna(f1_median)\n",
        "df = df.dropna()\n",
        "df = df[:int(len(df)*0.7)]\n",
        "print(df['views'].quantile(.75) - df['views'].quantile(.25))"
      ],
      "metadata": {
        "id": "d9UC9l2OQQ4m",
        "colab": {
          "base_uri": "https://localhost:8080/"
        },
        "outputId": "75e3af87-4354-4b8a-f5f8-d1e70bf2c2d5"
      },
      "execution_count": 19,
      "outputs": [
        {
          "output_type": "stream",
          "name": "stdout",
          "text": [
            "3261.0\n"
          ]
        }
      ]
    },
    {
      "cell_type": "markdown",
      "source": [
        "## 문제2\n",
        "- 주어진 데이터에서 결측치가 30% 이상인 컬럼을 A, 결측치가 30% 미만, 20% 이상인 컬럼을 B라고 가정하자.\n",
        "- A에 해당하는 컬럼은 결측치가 있는 데이터(행)를 삭제하시오.\n",
        "- B에 해당하는 컬럼은 결측치를 최빈값으로 대체하시오.\n",
        "- 'f3'컬럼의 'gold' 값을 가진 데이터 수를 구하시오\n",
        "\n"
      ],
      "metadata": {
        "id": "h2IXr3A_QRWS"
      }
    },
    {
      "cell_type": "code",
      "source": [
        "# your code\n",
        "import pandas as pd\n",
        "df = pd.read_csv(\"https://raw.githubusercontent.com/lovedlim/inf/main/p1/members.csv\")\n",
        "\n",
        "df = df.dropna(subset = ['f1'])\n",
        "f3_mode = df['f3'].mode()[0]\n",
        "\n",
        "df['f3'] = df['f3'].fillna(f3_mode)\n",
        "\n",
        "cond1 = df['f3'] == 'gold'\n",
        "print(sum(cond1))"
      ],
      "metadata": {
        "id": "SNMu1ew0QTnD",
        "colab": {
          "base_uri": "https://localhost:8080/"
        },
        "outputId": "61ceb084-cd42-47d3-d002-674739937d3a"
      },
      "execution_count": 26,
      "outputs": [
        {
          "output_type": "stream",
          "name": "stdout",
          "text": [
            "56\n"
          ]
        }
      ]
    },
    {
      "cell_type": "markdown",
      "source": [
        "## 문제3\n",
        "- views 컬럼에 결측치가 있는 데이터(행)을 삭제하고,\n",
        "- f3 컬럼의 결측치는 0, silver는 1, gold는 2, vip는 3 으로 변환한 후 총 합을 정수형으로 출력하시오"
      ],
      "metadata": {
        "id": "gV-W-F2wQTuw"
      }
    },
    {
      "cell_type": "code",
      "source": [
        "# your code\n",
        "import pandas as pd\n",
        "df = pd.read_csv(\"https://raw.githubusercontent.com/lovedlim/inf/main/p1/members.csv\")\n",
        "\n",
        "df.dropna(subset=['views'])\n",
        "\n",
        "import numpy as np\n",
        "dict_list = {np.nan:0, 'silver':1, 'gold':2, 'vip':3}\n",
        "df['f3'] = df['f3'].map(dict_list)\n",
        "print(df['f3'].sum())"
      ],
      "metadata": {
        "id": "TAP8aeX0QW3L",
        "colab": {
          "base_uri": "https://localhost:8080/"
        },
        "outputId": "f5a7df0c-d19e-41a9-985c-84c2f0b8b914"
      },
      "execution_count": 44,
      "outputs": [
        {
          "output_type": "stream",
          "name": "stdout",
          "text": [
            "133\n"
          ]
        }
      ]
    },
    {
      "cell_type": "markdown",
      "source": [
        "## 문제4\n",
        "- 주어진 데이터에서 자료형(type)이 object인 컬럼은 삭제하고, 결측치는 0으로 대체한다.\n",
        "- 행 단위로 합한 다음 그 값이 3000보다 큰 값의 데이터 수를 구하시오\n",
        "('age', 'f1', 'f2', 'f5', 'views'의 각 행별 합)"
      ],
      "metadata": {
        "id": "j4um6Gt9RdxU"
      }
    },
    {
      "cell_type": "code",
      "source": [
        "# your code\n",
        "import pandas as pd\n",
        "df = pd.read_csv(\"https://raw.githubusercontent.com/lovedlim/inf/main/p1/members.csv\")\n",
        "\n",
        "cols = df.select_dtypes(include='object').columns\n",
        "df = df.drop(cols, axis=1)\n",
        "df = df.fillna(0)\n",
        "\n",
        "df = df.T\n",
        "cond1 = df.sum() > 3000\n",
        "print(sum(cond1))"
      ],
      "metadata": {
        "colab": {
          "base_uri": "https://localhost:8080/"
        },
        "id": "4PkgEYahRn8s",
        "outputId": "3b5bd0bf-9c50-4908-f398-11362a4255d6"
      },
      "execution_count": 53,
      "outputs": [
        {
          "output_type": "stream",
          "name": "stdout",
          "text": [
            "73\n"
          ]
        }
      ]
    },
    {
      "cell_type": "markdown",
      "source": [
        "## 문제5\n",
        "- 데이터에서 IQR을 활용해 views 컬럼의 이상치를 찾고, 이상치 데이터의 수를 구하시오"
      ],
      "metadata": {
        "id": "fVwGfsOVULVR"
      }
    },
    {
      "cell_type": "code",
      "source": [
        "# your code\n",
        "import pandas as pd\n",
        "df = pd.read_csv(\"https://raw.githubusercontent.com/lovedlim/inf/main/p1/members.csv\")\n",
        "\n",
        "q3 = (df['views'].quantile(.75))\n",
        "q1 = (df['views'].quantile(.25))\n",
        "iqr = q3 - q1\n",
        "cond1 = q1 - 1.5*iqr\n",
        "cond2 = q3 + 1.5*iqr\n",
        "cond3 = (df['views'] < cond1) | (df['views'] > cond2)\n",
        "print(sum(cond3))"
      ],
      "metadata": {
        "colab": {
          "base_uri": "https://localhost:8080/"
        },
        "id": "y_G3nUOBUXHu",
        "outputId": "e75ecf73-2af3-412e-ce3a-e50f604aa577"
      },
      "execution_count": 60,
      "outputs": [
        {
          "output_type": "stream",
          "name": "stdout",
          "text": [
            "4\n"
          ]
        }
      ]
    },
    {
      "cell_type": "markdown",
      "source": [
        "## 문제6\n",
        "- 'age' 컬럼의 이상치(소수점 나이와 음수나이, 0포함)를 제거하고\n",
        "- 제거 전 후의 views 컬럼 표준편차를 더하시오 (최종 결과 값은 소수 둘째자리까지 출력, 셋째자리에서 반올림)"
      ],
      "metadata": {
        "id": "ld34rh_zYHs9"
      }
    },
    {
      "cell_type": "code",
      "source": [
        "# your code\n",
        "import pandas as pd\n",
        "df = pd.read_csv(\"https://raw.githubusercontent.com/lovedlim/inf/main/p1/members.csv\")\n",
        "\n",
        "r1 = df['age'].std()\n",
        "cond1 = df['age'] <= 0\n",
        "df = df[~cond1]\n",
        "\n",
        "cond2 = df['age'] != round(df['age'])\n",
        "df = df[~cond2]\n",
        "r2 = df['age'].std()\n",
        "print(round(r1+r2,2))"
      ],
      "metadata": {
        "colab": {
          "base_uri": "https://localhost:8080/"
        },
        "id": "ZPSIPGPaYLvP",
        "outputId": "53eed4bb-0868-4a78-98c3-2ed6e4850462"
      },
      "execution_count": 64,
      "outputs": [
        {
          "output_type": "stream",
          "name": "stdout",
          "text": [
            "58.81\n"
          ]
        }
      ]
    },
    {
      "cell_type": "markdown",
      "source": [
        "## 문제7\n",
        "- index '2001' 데이터(행)에서 해당 행의 평균보다 큰 값의 개수를 A라 한다.\n",
        "- index '2003' 데이터(행)에서 해당 행의 평균보다 작은 값의 개수를 B라 한다.\n",
        "- A와 B를 더한 값을 구하여 답으로 제출하라."
      ],
      "metadata": {
        "id": "TD_ZXwombiAJ"
      }
    },
    {
      "cell_type": "code",
      "source": [
        "import pandas as pd\n",
        "import random\n",
        "random.seed(2022)\n",
        "df = pd.DataFrame()\n",
        "for i in range(0, 5):\n",
        "    list_box = []\n",
        "    for k in range(0, 200):\n",
        "        ran_num = random.randint(1,200)\n",
        "        list_box.append(ran_num)\n",
        "    df[i+2000] = list_box\n",
        "df = df.T\n",
        "df.to_csv(\"data.csv\", index=True)\n",
        "\n",
        "r1 = df.loc[2001].mean()\n",
        "a1 = sum(df.loc[2001] > r1)\n",
        "r2 = df.loc[2003].mean()\n",
        "a2 = sum(df.loc[2003] < r2)\n",
        "print(a1+a2)"
      ],
      "metadata": {
        "colab": {
          "base_uri": "https://localhost:8080/"
        },
        "id": "CT7blMTsbohj",
        "outputId": "12b6d731-8b98-4355-bd52-e12f09d10936"
      },
      "execution_count": 76,
      "outputs": [
        {
          "output_type": "stream",
          "name": "stdout",
          "text": [
            "202\n"
          ]
        }
      ]
    },
    {
      "cell_type": "markdown",
      "source": [
        "## 문제8\n",
        "- 결측 값을 가진 데이터는 바로 뒤에 있는 값으로 대체한 후 (바로 뒤가 결측값이라면 뒤에 있는 데이터 중 가장 가까운 값)\n",
        "- city와 f2 컬럼 기준으로 그룹합을 계산한 뒤\n",
        "- views가 세번째로 큰 city(도시) 이름은?"
      ],
      "metadata": {
        "id": "vAX7SvFte7qQ"
      }
    },
    {
      "cell_type": "code",
      "source": [
        "# your code\n",
        "import pandas as pd\n",
        "df = pd.read_csv(\"https://raw.githubusercontent.com/lovedlim/inf/main/p1/members.csv\")\n",
        "\n",
        "df = df.fillna(method='bfill')\n",
        "df = df.groupby(['city','f2']).sum(numeric_only = True).reset_index()\n",
        "df = df.sort_values('views', ascending = False)\n",
        "print(df.iloc[2,0])"
      ],
      "metadata": {
        "colab": {
          "base_uri": "https://localhost:8080/"
        },
        "id": "jYX34Mc5e75X",
        "outputId": "4aff9f1d-b471-4d8b-b0c3-e864c2640524"
      },
      "execution_count": 97,
      "outputs": [
        {
          "output_type": "stream",
          "name": "stdout",
          "text": [
            "대구\n"
          ]
        },
        {
          "output_type": "stream",
          "name": "stderr",
          "text": [
            "/tmp/ipython-input-3056892321.py:5: FutureWarning: DataFrame.fillna with 'method' is deprecated and will raise in a future version. Use obj.ffill() or obj.bfill() instead.\n",
            "  df = df.fillna(method='bfill')\n"
          ]
        }
      ]
    },
    {
      "cell_type": "markdown",
      "source": [
        "## 문제9\n",
        "- 구독(subscribed) 월별로 데이터 개수를 구한 뒤\n",
        "- 가장 작은 구독 수가 있는 월을 구하시오"
      ],
      "metadata": {
        "id": "j9gXWpjkipRa"
      }
    },
    {
      "cell_type": "code",
      "source": [
        "# your code\n",
        "import pandas as pd\n",
        "df = pd.read_csv(\"https://raw.githubusercontent.com/lovedlim/inf/main/p1/members.csv\")\n",
        "\n",
        "df['subscribed'] = pd.to_datetime(df['subscribed'])\n",
        "df['month'] = df['subscribed'].dt.month\n",
        "df = df.groupby('month').count()\n",
        "df.sort_values('subscribed').index[0]"
      ],
      "metadata": {
        "colab": {
          "base_uri": "https://localhost:8080/"
        },
        "id": "U_IxXFXcipeq",
        "outputId": "13666a2b-e5e9-407a-d665-7eba88d6ba57"
      },
      "execution_count": 104,
      "outputs": [
        {
          "output_type": "execute_result",
          "data": {
            "text/plain": [
              "np.int32(11)"
            ]
          },
          "metadata": {},
          "execution_count": 104
        }
      ]
    }
  ]
}