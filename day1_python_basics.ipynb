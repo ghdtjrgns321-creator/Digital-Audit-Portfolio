{
  "nbformat": 4,
  "nbformat_minor": 0,
  "metadata": {
    "colab": {
      "provenance": []
    },
    "kernelspec": {
      "name": "python3",
      "display_name": "Python 3"
    },
    "language_info": {
      "name": "python"
    }
  },
  "cells": [
    {
      "cell_type": "code",
      "source": [
        "'''\n",
        "퀴즈 1: 리스트 필터링 (for + if/elif/else)\n",
        "\n",
        "문제: 다음은 여러 회계 계정 코드가 담긴 리스트입니다. for 반복문과 if/elif/else 조건문을 사용하여,\n",
        "\n",
        "1000번대 코드(예: 1101)는 '자산'\n",
        "\n",
        "2000번대 코드(예: 2101)는 '부채'\n",
        "\n",
        "그 외 코드는 '기타' 라고 분류하여 출력하는 코드를 작성해 보세요.\n",
        "'''\n",
        "account_codes = [1101, 5105, 2101, 1205, 3101]\n",
        "for a,i in enumerate(account_codes):\n",
        "  if i >= 1000 and i < 2000:\n",
        "    result = '자산'\n",
        "  elif i >= 2000 and i < 3000:\n",
        "    result = '부채'\n",
        "  else:\n",
        "    result = '기타'\n",
        "\n",
        "  print(f\"{i}: {result}\")"
      ],
      "metadata": {
        "colab": {
          "base_uri": "https://localhost:8080/"
        },
        "id": "xDy7PQw1VpI9",
        "outputId": "5c82f0e9-2122-4831-ef82-33292d4c5cb6"
      },
      "execution_count": 63,
      "outputs": [
        {
          "output_type": "stream",
          "name": "stdout",
          "text": [
            "1101: 자산\n",
            "5105: 기타\n",
            "2101: 부채\n",
            "1205: 자산\n",
            "3101: 기타\n"
          ]
        }
      ]
    },
    {
      "cell_type": "code",
      "source": [
        "'''\n",
        "퀴즈 2: 함수 만들기 (def + list + return)\n",
        "\n",
        "문제: 거래 금액 리스트(transactions)를 입력받아, \"총 거래 건수\", \"총 거래 금액\", \"평균 거래 금액\"을 **반환(return)**하는 analyze_transactions라는 이름의 함수를 정의해 보세요.\n",
        "'''\n",
        "transactions = [10000, 50000, 120000, 30000]\n",
        "def analyze_transactions(data):\n",
        "  count = len(data)\n",
        "  total = sum(data)\n",
        "  average = sum(data) / len(data)\n",
        "  return count, total, average\n",
        "\n",
        "count, total, average = analyze_transactions(transactions)\n",
        "print(f\"총 거래 건수: {count}건\")\n",
        "print(f\"총 거래 금액: {total}원\")\n",
        "print(f\"평균 거래 금액: {average}원\")"
      ],
      "metadata": {
        "colab": {
          "base_uri": "https://localhost:8080/"
        },
        "id": "XBwWckxsV9Jb",
        "outputId": "9693a027-cdcb-4b27-e38b-ddfe2362d6b4"
      },
      "execution_count": 68,
      "outputs": [
        {
          "output_type": "stream",
          "name": "stdout",
          "text": [
            "총 거래 건수: 4건\n",
            "총 거래 금액: 210000원\n",
            "평균 거래 금액: 52500.0원\n"
          ]
        }
      ]
    },
    {
      "cell_type": "code",
      "source": [
        "'''\n",
        "퀴즈 3: 딕셔너리 반복 (for + dict + f-string)\n",
        "\n",
        "문제: 직원별 급여 정보가 담긴 딕셔너리(salaries)가 있습니다. for 반복문을 사용해 딕셔너리의 모든 키(key)와 값(value)을 순회하면서, 각 직원의 '예상 상여금'(급여의 15%)을 계산하고, f-string을 이용해 다음과 같이 출력해 보세요.\n",
        "'''\n",
        "salaries = {'sam': 3000, 'sugar': 4500, 'park': 5000}\n",
        "for name, salary in salaries.items():\n",
        "  bonus = salary * 0.15\n",
        "  print(f\"{name}의 예상 상여금은 {bonus}원 입니다.\")"
      ],
      "metadata": {
        "colab": {
          "base_uri": "https://localhost:8080/"
        },
        "id": "WRBIXES7WQc7",
        "outputId": "e981fccf-608e-4ad2-b1ce-40441f1dd8f5"
      },
      "execution_count": 70,
      "outputs": [
        {
          "output_type": "stream",
          "name": "stdout",
          "text": [
            "sam의 예상 상여금은 450.0원 입니다.\n",
            "sugar의 예상 상여금은 675.0원 입니다.\n",
            "park의 예상 상여금은 750.0원 입니다.\n"
          ]
        }
      ]
    }
  ]
}